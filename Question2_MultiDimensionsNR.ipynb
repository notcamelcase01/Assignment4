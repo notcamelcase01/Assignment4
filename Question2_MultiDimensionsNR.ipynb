{
 "cells": [
  {
   "cell_type": "markdown",
   "id": "7ca5f80a",
   "metadata": {},
   "source": [
    "## Question 2\n",
    "\n",
    "Multidimensions Newton raphson\n",
    "\n",
    "Given System\n",
    "\n",
    "$x_1^3 - 2x_2 - 2 = 0$ \n",
    "\n",
    "$x_1^3 - 5x_3^2 + 7 = 0$\n",
    "\n",
    "$x_2x_3^2 - 1 = 0$\n",
    "\n",
    "Initial guess : $\\mathbf x = [1, 1, 1]$\n",
    "\n",
    "$\\epsilon = 5\\times 10^{-12}$\n",
    "\n",
    "Exact solution : $\\mathbf x = [\\sqrt[3]3, 0.5,\\sqrt[]2]$"
   ]
  },
  {
   "cell_type": "code",
   "execution_count": 2,
   "id": "7f5943c8",
   "metadata": {},
   "outputs": [],
   "source": [
    "import numpy as np\n",
    "from matplotlib import pyplot as plt\n",
    "\n",
    "\n",
    "\n",
    "def WriteDataToFile(list,myfile):\n",
    "    myfile.write(', '.join(str(item) for item in list)+'\\n')\n",
    "\n",
    "\n",
    "\n",
    "def F(x):\n",
    "    return np.array([x[0]**3 - 2*x[1] - 2,x[0]**3 - 5*x[2]**2 + 7, x[1]*x[2]**2 - 1])\n",
    "\n",
    "def J(x):\n",
    "    return np.matrix([[3*x[0]**2, -2, 0],\n",
    "              [3*x[0]**2,  0, -10*x[2]],\n",
    "              [0, x[2]**2 , 2*x[1]*x[2]]\n",
    "             ])\n",
    "\n",
    "max_iter= 10\n",
    "tol = 5e-12\n",
    "x0 = np.array([1,1,1])\n",
    "\n",
    "myfile = open(\"output_data\\\\mnr.csv\", 'a') \n",
    "myfile.seek(0) \n",
    "myfile.truncate() \n",
    "WriteDataToFile([\"ilteration\",\"x(1)\",\"x(2)\",\"x(3)\",\"Infinity Norm F(x)\"],myfile)\n",
    "WriteDataToFile([0,x0[0],x0[1],x0[2],np.linalg.norm(F(x0),np.inf)],myfile)\n",
    "\n",
    "\n",
    "for i in range(0,max_iter):\n",
    "    v = -np.linalg.solve(J(x0), F(x0)) \n",
    "    x0 = x0 + v\n",
    "    WriteDataToFile([i,x0[0],x0[1],x0[2],np.linalg.norm(F(x0),np.inf)],myfile)\n",
    "    if(np.linalg.norm(v,np.inf) < tol):\n",
    "        break\n",
    "        \n",
    "myfile.close()        "
   ]
  },
  {
   "cell_type": "markdown",
   "id": "e1d1e38a",
   "metadata": {},
   "source": [
    "### Result \n",
    "\n",
    "|ilteration|x(1)               |x(2)                |x(3)               |Infinity Norm F(x)     |\n",
    "|----------|-------------------|--------------------|-------------------|-----------------------|\n",
    "|0         | 1                 | 1                  | 1                 | 3.0                   |\n",
    "|0         | 1.4285714285714286| 0.1428571428571428 | 1.4285714285714286| 0.708454810495627     |\n",
    "|1         | 1.4401111728738187| 0.4930516953863257 | 1.4133129516398   | 0.015152165728195222  |\n",
    "|2         | 1.4422553387582202| 0.5000080621820467 | 1.4142149902141499| 1.987236353251376e-05 |\n",
    "|3         | 1.4422495703352232| 0.5000000000147997 | 1.414213562375909 | 1.439719454765509e-10 |\n",
    "|4         | 1.4422495703074083| 0.49999999999999994| 1.414213562373095 | 1.7763568394002505e-15|\n",
    "|5         | 1.4422495703074083| 0.5                | 1.4142135623730951| 1.7763568394002505e-15|\n",
    "\n",
    "\n",
    "<br>\n",
    "\n",
    "Solution : $[1.4422495703074083 ,  0.5  ,1.4142135623730951 ] \\approx  [\\sqrt[3]3, 0.5,\\sqrt[]2]$"
   ]
  }
 ],
 "metadata": {
  "kernelspec": {
   "display_name": "Python 3 (ipykernel)",
   "language": "python",
   "name": "python3"
  },
  "language_info": {
   "codemirror_mode": {
    "name": "ipython",
    "version": 3
   },
   "file_extension": ".py",
   "mimetype": "text/x-python",
   "name": "python",
   "nbconvert_exporter": "python",
   "pygments_lexer": "ipython3",
   "version": "3.9.12"
  }
 },
 "nbformat": 4,
 "nbformat_minor": 5
}
