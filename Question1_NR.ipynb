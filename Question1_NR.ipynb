{
 "cells": [
  {
   "cell_type": "markdown",
   "id": "ee30772a",
   "metadata": {},
   "source": [
    "## Question 1"
   ]
  },
  {
   "cell_type": "markdown",
   "id": "7312e132",
   "metadata": {},
   "source": [
    "### Part A"
   ]
  },
  {
   "cell_type": "markdown",
   "id": "de312aed",
   "metadata": {},
   "source": [
    "$F(x) = x^3 + x^2 - 3x -3$\n",
    "\n",
    "$f(x) = F'(x) = 3x^2 + 2x -3$\n",
    "\n",
    "Exact roots of $F(x)$ are $-1$ , $\\pm\\sqrt[]{3}$"
   ]
  },
  {
   "cell_type": "code",
   "execution_count": 13,
   "id": "2c8d7064",
   "metadata": {},
   "outputs": [],
   "source": [
    "import math\n",
    "\n",
    "\n",
    "def WriteDataToFile(list,myfile):\n",
    "    myfile.write(', '.join(str(item) for item in list)+'\\n')\n",
    "\n",
    "    \n",
    "F = lambda x : x**3 + x**2 - 3*x - 3\n",
    "f = lambda x : 3*x**2 + 2*x - 3\n",
    "max_iter = 1000\n",
    "tolerance = 1e-10\n",
    "x0 = 2.0\n",
    "x_exactRoot = math.sqrt(3)\n",
    "error_0 = abs(x_exactRoot - x0)\n",
    "\n",
    "myfile = open(\"output_data\\\\nr.csv\", 'a') \n",
    "myfile.seek(0) \n",
    "myfile.truncate() \n",
    "header_array = [\"ilteration\",\"x\",\"error\",\"enew/eold\",\"enew/eold^2\",\"enew/eold^3\"]\n",
    "WriteDataToFile(header_array,myfile)\n",
    "data_array = [0 , x0 , error_0 , 0 , 0 ,0]\n",
    "WriteDataToFile(data_array,myfile)\n",
    "\n",
    " \n",
    "for i in range(1,max_iter):\n",
    "    x1 = x0 - F(x0)/f(x0)\n",
    "    if(error_0 < tolerance):\n",
    "        break\n",
    "    error_1 = abs(x1 - x_exactRoot)\n",
    "    data_array = [i,x1,error_1,error_1/error_0,error_1/error_0**2,error_1/error_0**3]\n",
    "    WriteDataToFile(data_array,myfile)\n",
    "    x0 = x1\n",
    "    error_0 = error_1\n",
    "myfile.close()\n"
   ]
  },
  {
   "cell_type": "markdown",
   "id": "406dcf20",
   "metadata": {},
   "source": [
    "### Results \n",
    "\n",
    "| ilteration, | x,                  | error,                  | enew/eold,              | enew/eold^2,        | enew/eold^3        |\n",
    "|-------------|---------------------|-------------------------|-------------------------|---------------------|--------------------|\n",
    "| 0,          | 2.0,                | 0.2679491924311228,     | 0,                      | 0,                  | 0                  |\n",
    "| 1,          | 1.7692307692307692, | 0.03717996166189197,    | 0.13875750594564376,    | 0.517850062120683,  | 1.9326427425370873 |\n",
    "| 2,          | 1.7329238103969928, | 0.0008730028281156432,  | 0.023480466065419255,   | 0.6315355104167799, | 16.985910748371737 |\n",
    "| 3,          | 1.7320513061089737, | 4.985400965384912e-07,  | 0.0005710635526972789,  | 0.6541371165198934, | 749.295529697004   |\n",
    "| 4,          | 1.73205080756904,   | 1.6275869541004795e-13, | 3.2647062200238034e-07, | 0.6548532891720461, | 1313541.8669809767 |\n",
    "\n",
    "\n",
    "\n",
    "As we can see order of convergence is 2 and that is also matching what we got from theory, Order of convergance for Newton Raphson Method is 2"
   ]
  },
  {
   "cell_type": "markdown",
   "id": "334288ab",
   "metadata": {},
   "source": [
    "### Part B\n",
    "\n",
    "Varying initial guess from -5 to 5 and checking to which root NR method converge "
   ]
  },
  {
   "cell_type": "code",
   "execution_count": 14,
   "id": "1eb5d25b",
   "metadata": {},
   "outputs": [
    {
     "data": {
      "image/png": "[encoded data removed]",
      "text/plain": [
       "<Figure size 1152x576 with 2 Axes>"
      ]
     },
     "metadata": {
      "needs_background": "light"
     },
     "output_type": "display_data"
    }
   ],
   "source": [
    "from matplotlib import pyplot as plt\n",
    "import numpy as np\n",
    "\n",
    "F = lambda x : x**3 + x**2 - 3*x - 3\n",
    "f = lambda x : 3*x**2 + 2*x - 3\n",
    "\n",
    "def FindRoot(initial_guess):\n",
    "    max_iter = 1000\n",
    "    tolerance = 1e-10\n",
    "    x0 = initial_guess\n",
    "    for i in range(1,max_iter):\n",
    "        x1 = x0 - F(x0)/f(x0)\n",
    "        if(abs(x1-x0) < tolerance):\n",
    "            break\n",
    "        x0 = x1\n",
    "    return x1\n",
    "\n",
    "regime_map = [[],[],[]]\n",
    "i = -5\n",
    "exact_roots = [-1,-math.sqrt(3),math.sqrt(3)]\n",
    "\n",
    "xpts = np.linspace(-5,5,50)\n",
    "\n",
    "for i in xpts:\n",
    "    root = FindRoot(i)\n",
    "    if(abs(root-exact_roots[0]) < 1e-6):\n",
    "          regime_map[0].append([i,root])\n",
    "    elif(abs(root-exact_roots[1]) < 1e-6):\n",
    "          regime_map[1].append([i,root])\n",
    "    elif(abs(root-exact_roots[2]) < 1e-6):\n",
    "          regime_map[2].append([i,root])\n",
    "    else:\n",
    "        pass\n",
    "\n",
    "\n",
    "## POST PROCESSING\n",
    "\n",
    "colors = ['pink', 'skyblue', 'lightgreen']\n",
    "markers = ['<', 'o', '>']\n",
    "\n",
    "\n",
    "data_0 = np.array(regime_map[0])\n",
    "data_1 = np.array(regime_map[1])\n",
    "data_2 = np.array(regime_map[2])\n",
    "x0,y0 = data_0.T\n",
    "x1,y1 = data_1.T\n",
    "x2,y2 = data_2.T\n",
    "fig = plt.figure()\n",
    "ax1 = fig.add_subplot(121)\n",
    "ax1.scatter(x0, y0, s=10, c='b', marker=\"s\", label='-1')\n",
    "ax1.scatter(x1,y1, s=10, c='r', marker=\"o\", label='-sqrt(3)')\n",
    "ax1.scatter(x2,y2, s=10, c='g', marker=\"D\", label='sqrt(3)')\n",
    "plt.xlabel(\"initial guess\")\n",
    "plt.ylabel(\"root\")\n",
    "plt.legend(loc='upper left');\n",
    "ax1 = fig.add_subplot(122)\n",
    "plt.xlabel(\"x\")\n",
    "plt.ylabel(\"F(x)\")\n",
    "plt.plot(xpts, F(xpts))\n",
    "plt.rcParams['figure.figsize'] = [16, 8]\n",
    "plt.show()"
   ]
  }
 ],
 "metadata": {
  "kernelspec": {
   "display_name": "Python 3 (ipykernel)",
   "language": "python",
   "name": "python3"
  },
  "language_info": {
   "codemirror_mode": {
    "name": "ipython",
    "version": 3
   },
   "file_extension": ".py",
   "mimetype": "text/x-python",
   "name": "python",
   "nbconvert_exporter": "python",
   "pygments_lexer": "ipython3",
   "version": "3.9.12"
  }
 },
 "nbformat": 4,
 "nbformat_minor": 5
}
